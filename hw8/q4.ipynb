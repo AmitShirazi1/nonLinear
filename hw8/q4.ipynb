{
 "cells": [
  {
   "cell_type": "markdown",
   "metadata": {},
   "source": [
    "## Section a"
   ]
  },
  {
   "cell_type": "code",
   "execution_count": 5,
   "metadata": {},
   "outputs": [],
   "source": [
    "import numpy as np"
   ]
  },
  {
   "cell_type": "code",
   "execution_count": 6,
   "metadata": {},
   "outputs": [],
   "source": [
    "def grad_proj(f, gf, proj, t, x0, eps):\n",
    "    x = x0\n",
    "    fs = [f(x0)]\n",
    "    i = 0\n",
    "    while (i == 0) or (np.linalg.norm(fs[-1] - fs[-2]) > eps):\n",
    "        i += 1\n",
    "        x = proj(x - t * gf(x))\n",
    "        fs.append(f(x))\n",
    "    return x, fs"
   ]
  },
  {
   "cell_type": "code",
   "execution_count": 7,
   "metadata": {},
   "outputs": [],
   "source": [
    "def proj_section_b():\n",
    "    def proj(p):\n",
    "        t, s = p\n",
    "        return np.array([(1 - s + t) / 2, (1 + s - t) / 2])\n",
    "    return proj"
   ]
  },
  {
   "cell_type": "code",
   "execution_count": 8,
   "metadata": {},
   "outputs": [
    {
     "name": "stdout",
     "output_type": "stream",
     "text": [
      "The gradient projection method converged after 3 iterations to the point [0.5 0.5] with function value 0.5000000000000001\n"
     ]
    }
   ],
   "source": [
    "f = lambda x: np.linalg.norm(x) ** 2\n",
    "gf = lambda x: 2 * x\n",
    "proj = proj_section_b()\n",
    "t = 1/2\n",
    "x0 = np.array([100, 100])\n",
    "eps = 1e-8\n",
    "x, fs = grad_proj(f, gf, proj, t, x0, eps)\n",
    "print(f\"The gradient projection method converged after {len(fs)} iterations to the point {x} with function value {f(x)}\")"
   ]
  }
 ],
 "metadata": {
  "kernelspec": {
   "display_name": "Python 3",
   "language": "python",
   "name": "python3"
  },
  "language_info": {
   "codemirror_mode": {
    "name": "ipython",
    "version": 3
   },
   "file_extension": ".py",
   "mimetype": "text/x-python",
   "name": "python",
   "nbconvert_exporter": "python",
   "pygments_lexer": "ipython3",
   "version": "3.9.4"
  }
 },
 "nbformat": 4,
 "nbformat_minor": 2
}
